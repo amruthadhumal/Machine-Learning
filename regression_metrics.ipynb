{
 "cells": [
  {
   "cell_type": "code",
   "execution_count": 3,
   "id": "fe22f46b",
   "metadata": {},
   "outputs": [
    {
     "name": "stdout",
     "output_type": "stream",
     "text": [
      "MAE: On average off by:  7.5\n",
      "MSE: Squared Mistake Value:  62.5\n",
      "RMSE: Final Realistic Error:  7.905694150420948\n",
      "My RMSE:  7.905694150420948\n"
     ]
    }
   ],
   "source": [
    "from sklearn.metrics import mean_absolute_error, mean_squared_error, root_mean_squared_error\n",
    "import numpy as np\n",
    "\n",
    "#real scores\n",
    "real_scores = [90,60,80,100]\n",
    "\n",
    "#model guess\n",
    "predicted_scores = [85,70,70,95]\n",
    "\n",
    "mae = mean_absolute_error(real_scores, predicted_scores)\n",
    "mse = mean_squared_error(real_scores, predicted_scores)\n",
    "rmse = np.sqrt(mse)\n",
    "rrmse = root_mean_squared_error(real_scores, predicted_scores)\n",
    "\n",
    "print(\"MAE: On average off by: \",mae)\n",
    "print(\"MSE: Squared Mistake Value: \",mse)\n",
    "print(\"RMSE: Final Realistic Error: \",rmse)\n",
    "print(\"My RMSE: \", rrmse)"
   ]
  }
 ],
 "metadata": {
  "kernelspec": {
   "display_name": "Python 3",
   "language": "python",
   "name": "python3"
  },
  "language_info": {
   "codemirror_mode": {
    "name": "ipython",
    "version": 3
   },
   "file_extension": ".py",
   "mimetype": "text/x-python",
   "name": "python",
   "nbconvert_exporter": "python",
   "pygments_lexer": "ipython3",
   "version": "3.13.0"
  }
 },
 "nbformat": 4,
 "nbformat_minor": 5
}
