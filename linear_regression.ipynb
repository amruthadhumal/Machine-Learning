{
 "cells": [
  {
   "cell_type": "code",
   "execution_count": 1,
   "id": "9fdb18e0",
   "metadata": {},
   "outputs": [
    {
     "name": "stdout",
     "output_type": "stream",
     "text": [
      "Based on your hours 6.0, you may score around 101.5\n"
     ]
    }
   ],
   "source": [
    "from sklearn.linear_model import LinearRegression\n",
    "\n",
    "X = [[1],[2],[3],[4],[5]]\n",
    "y = [40,50,65,75,90]\n",
    "\n",
    "model = LinearRegression()\n",
    "\n",
    "model.fit(X,y)\n",
    "\n",
    "hours = float(input(\"Enter how many hours you studied = \"))\n",
    "\n",
    "predicted_marks = model.predict([[hours]])[0]\n",
    "\n",
    "print(f\"Based on your hours {hours}, you may score around {predicted_marks}\")\n"
   ]
  }
 ],
 "metadata": {
  "kernelspec": {
   "display_name": "Python 3",
   "language": "python",
   "name": "python3"
  },
  "language_info": {
   "codemirror_mode": {
    "name": "ipython",
    "version": 3
   },
   "file_extension": ".py",
   "mimetype": "text/x-python",
   "name": "python",
   "nbconvert_exporter": "python",
   "pygments_lexer": "ipython3",
   "version": "3.13.0"
  }
 },
 "nbformat": 4,
 "nbformat_minor": 5
}
