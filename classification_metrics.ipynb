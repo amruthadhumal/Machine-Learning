{
 "cells": [
  {
   "cell_type": "code",
   "execution_count": 5,
   "id": "233d7ab0",
   "metadata": {},
   "outputs": [
    {
     "name": "stdout",
     "output_type": "stream",
     "text": [
      "Accuracy:  0.8571428571428571\n",
      "Precision:  0.8\n",
      "Recall:  1.0\n",
      "F1 Score:  0.8888888888888888\n"
     ]
    }
   ],
   "source": [
    "from sklearn.metrics import accuracy_score,precision_score,recall_score,f1_score\n",
    "\n",
    "#True answers (what actually happened)\n",
    "\n",
    "y_true = [1,0,1,1,0,1,0]\n",
    "\n",
    "#Model's predictions (what it gussed)\n",
    "#y_pred = [1,0,1,0,0,1,1]\n",
    "y_pred = [1,0,1,1,0,1,1]\n",
    "\n",
    "#Evaluation\n",
    "print(\"Accuracy: \", accuracy_score(y_true, y_pred))\n",
    "print(\"Precision: \", precision_score(y_true, y_pred))\n",
    "print(\"Recall: \", recall_score(y_true, y_pred))\n",
    "print(\"F1 Score: \", f1_score(y_true, y_pred))"
   ]
  }
 ],
 "metadata": {
  "kernelspec": {
   "display_name": "Python 3",
   "language": "python",
   "name": "python3"
  },
  "language_info": {
   "codemirror_mode": {
    "name": "ipython",
    "version": 3
   },
   "file_extension": ".py",
   "mimetype": "text/x-python",
   "name": "python",
   "nbconvert_exporter": "python",
   "pygments_lexer": "ipython3",
   "version": "3.13.0"
  }
 },
 "nbformat": 4,
 "nbformat_minor": 5
}
