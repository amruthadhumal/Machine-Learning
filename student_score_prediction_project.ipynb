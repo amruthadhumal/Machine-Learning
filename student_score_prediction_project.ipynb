{
 "cells": [
  {
   "cell_type": "code",
   "execution_count": 2,
   "id": "70998a6b",
   "metadata": {},
   "outputs": [
    {
     "name": "stdout",
     "output_type": "stream",
     "text": [
      "   Hours  Score\n",
      "0      1     52\n",
      "1      2     57\n",
      "2      3     65\n",
      "3      4     70\n",
      "4      5     75\n",
      "5      6     80\n",
      "test:  [[52.28571429]\n",
      " [57.97142857]\n",
      " [63.65714286]\n",
      " [69.34285714]\n",
      " [75.02857143]\n",
      " [80.71428571]]\n",
      "Mean Absolute Error (MAE):  0.6666666666666643\n",
      "Mean Squared Error (MSE):  0.6285714285714282\n",
      "Root Mean Squared Error (RMSE):  0.7928249671720916\n"
     ]
    },
    {
     "name": "stdout",
     "output_type": "stream",
     "text": [
      "7.0\n",
      "Prediction for 7.0 is score = [[86.4]]\n"
     ]
    },
    {
     "name": "stderr",
     "output_type": "stream",
     "text": [
      "c:\\Users\\dhuma\\AppData\\Local\\Programs\\Python\\Python313\\Lib\\site-packages\\sklearn\\utils\\validation.py:2749: UserWarning: X does not have valid feature names, but LinearRegression was fitted with feature names\n",
      "  warnings.warn(\n"
     ]
    }
   ],
   "source": [
    "import pandas as pd\n",
    "from sklearn.linear_model import LinearRegression\n",
    "from sklearn.metrics import mean_absolute_error, mean_squared_error\n",
    "import numpy as np\n",
    "\n",
    "data = pd.read_csv(\"student.csv\")\n",
    "print(data)\n",
    "\n",
    "X = data[['Hours']]  #double brackets - 2D input\n",
    "y = data[['Score']]  #Target column\n",
    "\n",
    "model = LinearRegression()\n",
    "model.fit(X,y)\n",
    "\n",
    "predicted_score = model.predict(X)\n",
    "print(\"test: \", predicted_score)\n",
    "\n",
    "#evaluate\n",
    "mae = mean_absolute_error(y, predicted_score)\n",
    "mse = mean_squared_error(y, predicted_score)\n",
    "rmse = np.sqrt(mse)\n",
    "\n",
    "#show results\n",
    "print(\"Mean Absolute Error (MAE): \", mae)\n",
    "print(\"Mean Squared Error (MSE): \", mse)\n",
    "print(\"Root Mean Squared Error (RMSE): \", rmse)\n",
    "\n",
    "new_hour = float(input(\"enter a hour =  \"))\n",
    "print(new_hour)\n",
    "\n",
    "new_pred = model.predict([[new_hour]])\n",
    "\n",
    "print(f\"Prediction for {new_hour} is score = {new_pred}\")"
   ]
  }
 ],
 "metadata": {
  "kernelspec": {
   "display_name": "Python 3",
   "language": "python",
   "name": "python3"
  },
  "language_info": {
   "codemirror_mode": {
    "name": "ipython",
    "version": 3
   },
   "file_extension": ".py",
   "mimetype": "text/x-python",
   "name": "python",
   "nbconvert_exporter": "python",
   "pygments_lexer": "ipython3",
   "version": "3.13.0"
  }
 },
 "nbformat": 4,
 "nbformat_minor": 5
}
